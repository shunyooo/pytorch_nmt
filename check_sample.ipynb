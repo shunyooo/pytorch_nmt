{
 "cells": [
  {
   "cell_type": "code",
   "execution_count": null,
   "metadata": {
    "collapsed": true
   },
   "outputs": [],
   "source": []
  },
  {
   "cell_type": "code",
   "execution_count": null,
   "metadata": {
    "collapsed": true
   },
   "outputs": [],
   "source": []
  },
  {
   "cell_type": "code",
   "execution_count": 43,
   "metadata": {
    "collapsed": true
   },
   "outputs": [],
   "source": [
    "def read_raml_train_data(data_file, temp):\n",
    "    train_data = dict()\n",
    "    num_pattern = re.compile('^(\\d+) samples$')\n",
    "    count = 0\n",
    "    with open(data_file) as f:\n",
    "        while True:\n",
    "            line = f.readline()\n",
    "            \n",
    "\n",
    "            if line is None or line == '':\n",
    "                break\n",
    "\n",
    "            assert line.startswith('***')\n",
    "\n",
    "            src_sent = f.readline()[len('source: '):].strip()\n",
    "            tgt_num = int(num_pattern.match(f.readline().strip()).group(1))\n",
    "            tgt_samples = []\n",
    "            tgt_scores = []\n",
    "            for i in range(tgt_num):\n",
    "                d = f.readline().strip().split(' ||| ')\n",
    "                if len(d) < 2:\n",
    "                    continue\n",
    "\n",
    "                tgt_sent = d[0].strip()\n",
    "                bleu_score = float(d[1])\n",
    "                tgt_samples.append(tgt_sent)\n",
    "                tgt_scores.append(bleu_score / temp)\n",
    "\n",
    "            tgt_scores = np.exp(tgt_scores)\n",
    "            tgt_scores = tgt_scores / np.sum(tgt_scores)\n",
    "\n",
    "            tgt_entry = list(zip(tgt_samples, tgt_scores))\n",
    "            train_data[src_sent] = tgt_entry\n",
    "\n",
    "            line = f.readline()\n",
    "\n",
    "    return train_data"
   ]
  },
  {
   "cell_type": "code",
   "execution_count": 44,
   "metadata": {
    "collapsed": true
   },
   "outputs": [],
   "source": [
    "raml_sample_file = \"./tmp/samples.txt\"\n",
    "tau = 0.6"
   ]
  },
  {
   "cell_type": "code",
   "execution_count": 45,
   "metadata": {
    "collapsed": false
   },
   "outputs": [
    {
     "name": "stderr",
     "output_type": "stream",
     "text": [
      "read in raml training data..."
     ]
    },
    {
     "name": "stdout",
     "output_type": "stream",
     "text": [
      "done[46 s].\n"
     ]
    }
   ],
   "source": [
    "import sys, time, re\n",
    "import numpy as np\n",
    "print('read in raml training data...', file=sys.stderr, end='')\n",
    "begin_time = time.time()\n",
    "raml_samples = read_raml_train_data(raml_sample_file, temp=tau)\n",
    "print('done[%d s].' % (time.time() - begin_time))"
   ]
  },
  {
   "cell_type": "code",
   "execution_count": 18,
   "metadata": {
    "collapsed": false
   },
   "outputs": [],
   "source": [
    "invalid_sample_list = [src_sent for src_sent, sample in raml_samples.items() if len(list(sample)) == 0]"
   ]
  },
  {
   "cell_type": "code",
   "execution_count": 48,
   "metadata": {
    "collapsed": true
   },
   "outputs": [],
   "source": [
    "count_sample_list = [len(list(sample)) for src_sent, sample in raml_samples.items()]"
   ]
  },
  {
   "cell_type": "code",
   "execution_count": 49,
   "metadata": {
    "collapsed": false
   },
   "outputs": [
    {
     "data": {
      "text/plain": [
       "Counter({100: 151722})"
      ]
     },
     "execution_count": 49,
     "metadata": {},
     "output_type": "execute_result"
    }
   ],
   "source": [
    "import collections\n",
    "collections.Counter(count_sample_list)"
   ]
  },
  {
   "cell_type": "code",
   "execution_count": 29,
   "metadata": {
    "collapsed": false
   },
   "outputs": [
    {
     "data": {
      "text/plain": [
       "100678"
      ]
     },
     "execution_count": 29,
     "metadata": {},
     "output_type": "execute_result"
    }
   ],
   "source": [
    "len(invalid_sample_list)"
   ]
  },
  {
   "cell_type": "code",
   "execution_count": 21,
   "metadata": {
    "collapsed": false
   },
   "outputs": [
    {
     "data": {
      "text/plain": [
       "(151722, 100678)"
      ]
     },
     "execution_count": 21,
     "metadata": {},
     "output_type": "execute_result"
    }
   ],
   "source": [
    "len(raml_samples), len(invalid_sample_list)"
   ]
  },
  {
   "cell_type": "code",
   "execution_count": 22,
   "metadata": {
    "collapsed": false
   },
   "outputs": [
    {
     "data": {
      "text/plain": [
       "'und was menschliche gesundheit ist , kann auch ziemlich kompliziert sein .'"
      ]
     },
     "execution_count": 22,
     "metadata": {},
     "output_type": "execute_result"
    }
   ],
   "source": [
    "invalid_sample_list[0]"
   ]
  },
  {
   "cell_type": "code",
   "execution_count": 12,
   "metadata": {
    "collapsed": true
   },
   "outputs": [],
   "source": [
    "sent = 'dennoch bleiben die medien zumeist still , was diese geschichten angeht .'"
   ]
  },
  {
   "cell_type": "code",
   "execution_count": 15,
   "metadata": {
    "collapsed": false
   },
   "outputs": [
    {
     "data": {
      "text/plain": [
       "[('yet the media remains mostly silent on these stories .',\n",
       "  0.020658801167101049),\n",
       " ('intergalactic the media remains mostly silent on these stories .',\n",
       "  0.016917153411149615),\n",
       " ('stories the media remains mostly silent on these stories .',\n",
       "  0.016917153411149615),\n",
       " ('yet jew media remains mostly silent on these stories .',\n",
       "  0.014378175048677699),\n",
       " ('yet the media remains mostly silent on these upright .',\n",
       "  0.014378175048677699),\n",
       " ('yet corbusier media remains mostly silent on these stories .',\n",
       "  0.014378175048677699),\n",
       " ('yet the media remains mostly silent on these functional .',\n",
       "  0.014378175048677699),\n",
       " ('beholder flipping media remains mostly silent on these stories .',\n",
       "  0.013844223944288388),\n",
       " ('rid crowdsource media remains mostly silent on these stories .',\n",
       "  0.013844223944288388),\n",
       " ('encore deformed media remains mostly silent on these stories .',\n",
       "  0.013844223944288388),\n",
       " ('yet the media remains mostly silent on lingala stories .',\n",
       "  0.012679498975383747),\n",
       " ('yet the absent remains mostly silent on these stories .',\n",
       "  0.012679498975383747),\n",
       " ('yet the media remains mostly silent on keynote stories .',\n",
       "  0.012679498975383747),\n",
       " ('yet trip needs remains mostly silent on these stories .',\n",
       "  0.011734459489856953),\n",
       " ('yet the media remains mostly silent on getting diversion .',\n",
       "  0.011734459489856953),\n",
       " ('yet finds reality remains mostly silent on these stories .',\n",
       "  0.011734459489856953),\n",
       " ('yet the media remains mostly ordered on these stories .',\n",
       "  0.011683798071697431),\n",
       " ('yet the media remains mostly scar on these stories .',\n",
       "  0.011683798071697431),\n",
       " ('yet the media remains heparin silent on these stories .',\n",
       "  0.011683798071697431),\n",
       " ('yet the media remains mostly silent refuse these stories .',\n",
       "  0.011683798071697431),\n",
       " ('yet the media branches mostly silent on these stories .',\n",
       "  0.011683798071697431),\n",
       " ('yet the media remains mostly 2004 on these stories .',\n",
       "  0.011683798071697431),\n",
       " ('yet the media remains repeats silent on these stories .',\n",
       "  0.011683798071697431),\n",
       " ('yet the media remains mostly donating on these stories .',\n",
       "  0.011683798071697431),\n",
       " ('yet the media font mostly silent on these stories .', 0.011683798071697431),\n",
       " ('yet the media remains mostly augmented on these stories .',\n",
       "  0.011683798071697431),\n",
       " ('yet the media remains mostly accidents on these stories .',\n",
       "  0.011683798071697431),\n",
       " ('yet the media remains mostly silent shoulder these stories .',\n",
       "  0.011683798071697431),\n",
       " ('yet the media picking mostly silent on these stories .',\n",
       "  0.011683798071697431),\n",
       " ('yet the media remains mostly unobtrusive on these stories .',\n",
       "  0.011683798071697431),\n",
       " ('yet the media characterize mostly silent on these stories .',\n",
       "  0.011683798071697431),\n",
       " ('yet the media remains mostly overlap on these stories .',\n",
       "  0.011683798071697431),\n",
       " ('grief socks dinners remains mostly silent on these stories .',\n",
       "  0.011317834643632878),\n",
       " ('treasure protesters prolific remains mostly silent on these stories .',\n",
       "  0.011317834643632878),\n",
       " ('murderer harbors voicemails remains mostly silent on these stories .',\n",
       "  0.011317834643632878),\n",
       " ('others mind yearly remains mostly silent on these stories .',\n",
       "  0.011317834643632878),\n",
       " ('yet the media remains mostly silent metastasized undergrads stories .',\n",
       "  0.01028335362815728),\n",
       " ('yet the bow jumps mostly silent on these stories .', 0.01028335362815728),\n",
       " ('yet the also viable mostly silent on these stories .', 0.01028335362815728),\n",
       " ('yet the 6,000 democrat mostly silent on these stories .',\n",
       "  0.01028335362815728),\n",
       " ('yet the media remains mostly silent audiences kidding stories .',\n",
       "  0.01028335362815728),\n",
       " ('yet b-rex uptake head-to-head mostly silent on these stories .',\n",
       "  0.0095539030618973005),\n",
       " ('yet the media remains mostly silent yorker approximately self-help .',\n",
       "  0.0095539030618973005),\n",
       " ('yet the media remains mostly silent diller flood cookbook .',\n",
       "  0.0095539030618973005),\n",
       " ('yet macho troubling cornered mostly silent on these stories .',\n",
       "  0.0095539030618973005),\n",
       " ('yet the media remains mostly silent thursday mayne madrid .',\n",
       "  0.0095539030618973005),\n",
       " ('yet hyperbole denisovans basically mostly silent on these stories .',\n",
       "  0.0095539030618973005),\n",
       " ('yet camouflaged infection colorless mostly silent on these stories .',\n",
       "  0.0095539030618973005),\n",
       " ('yet lockheed patee spelling mostly silent on these stories .',\n",
       "  0.0095539030618973005),\n",
       " ('yet commodities athabasca contagion mostly silent on these stories .',\n",
       "  0.0095539030618973005),\n",
       " ('yet the media remains mostly silent basic harbor headphone .',\n",
       "  0.0095539030618973005),\n",
       " ('yet the media remains mostly silent tradeoff anonymous corrugated .',\n",
       "  0.0095539030618973005),\n",
       " ('yet unruly asanga has mostly silent on these stories .',\n",
       "  0.0095539030618973005),\n",
       " ('yet the media remains mostly redesign vulnerabilities these stories .',\n",
       "  0.0093662371921272303),\n",
       " ('yet the media remains overwhelmingly axes on these stories .',\n",
       "  0.0093662371921272303),\n",
       " ('yet the media trachea collaborative silent on these stories .',\n",
       "  0.0093662371921272303),\n",
       " ('yet the media remains bins bustling on these stories .',\n",
       "  0.0093662371921272303),\n",
       " ('yet the media momentarily ok silent on these stories .',\n",
       "  0.0093662371921272303),\n",
       " ('yet the media escaping meantime silent on these stories .',\n",
       "  0.0093662371921272303),\n",
       " ('yet the media remains mostly subunits louvre these stories .',\n",
       "  0.0093662371921272303),\n",
       " ('yet the media remains mostly tribunal droughts these stories .',\n",
       "  0.0093662371921272303),\n",
       " ('yet the media remains mostly extraordinary 1800s these stories .',\n",
       "  0.0093662371921272303),\n",
       " ('yet the media remains springs finally on these stories .',\n",
       "  0.0093662371921272303),\n",
       " ('yet the media lakota mid-1990s silent on these stories .',\n",
       "  0.0093662371921272303),\n",
       " ('yet the media remains mostly upload purpose-driven these stories .',\n",
       "  0.0093662371921272303),\n",
       " ('around classified firewall avenue mostly silent on these stories .',\n",
       "  0.0092358849548267816),\n",
       " ('fudge sponsor wife steeped mostly silent on these stories .',\n",
       "  0.0092358849548267816),\n",
       " ('atmosphere plumbing stirs spotlight mostly silent on these stories .',\n",
       "  0.0092358849548267816),\n",
       " ('appliances iphone stereotypes nylon mostly silent on these stories .',\n",
       "  0.0092358849548267816),\n",
       " ('deliberate resigned revolution bangladesh mostly silent on these stories .',\n",
       "  0.0092358849548267816),\n",
       " ('push right-wing instill csi mostly silent on these stories .',\n",
       "  0.0092358849548267816),\n",
       " ('yet the lords awakening fluidity silent on these stories .',\n",
       "  0.0082852467671599584),\n",
       " ('yet the media remains mostly imagined muse keyboards stories .',\n",
       "  0.0082852467671599584),\n",
       " ('yet the field knowledge earlier silent on these stories .',\n",
       "  0.0082852467671599584),\n",
       " ('yet the 43 strongly moms silent on these stories .', 0.0082852467671599584),\n",
       " ('yet the droplets laws beg silent on these stories .',\n",
       "  0.0082852467671599584),\n",
       " ('yet the media remains mostly skies committed letter bam .',\n",
       "  0.0077422945868252839),\n",
       " ('yet eden technologist pits actions silent on these stories .',\n",
       "  0.0077422945868252839),\n",
       " ('yet the media remains mostly serving reached cancers rethink .',\n",
       "  0.0077422945868252839),\n",
       " ('yet the media remains mostly sweeney zuckerman worship ushered .',\n",
       "  0.0077422945868252839),\n",
       " ('yet hypercard vanishing seen volumes silent on these stories .',\n",
       "  0.0077422945868252839),\n",
       " ('yet similar paces sensitivity quantity silent on these stories .',\n",
       "  0.0077422945868252839),\n",
       " ('yet the media remains entanglement alienation nature these stories .',\n",
       "  0.0073497877499214045),\n",
       " ('yet the media allen asanga cobras on these stories .',\n",
       "  0.0073497877499214045),\n",
       " ('yet the media faithful giraffes menu on these stories .',\n",
       "  0.0073497877499214045),\n",
       " ('yet the media remains parades increase suture these stories .',\n",
       "  0.0073497877499214045),\n",
       " ('yet the media remains specific animals exams these stories .',\n",
       "  0.0073497877499214045),\n",
       " ('yet the media bumping formula michelangelo on these stories .',\n",
       "  0.0073497877499214045),\n",
       " ('yet the media remains scavenged blockage forrester deployments stories .',\n",
       "  0.0065674881303611592),\n",
       " ('yet the media remains daycare respond vancouver capitals stories .',\n",
       "  0.0065674881303611592),\n",
       " ('yet the media remains activating sociable airbus perfumery stories .',\n",
       "  0.0065674881303611592),\n",
       " ('yet the media remains conservationist chaz react honored stories .',\n",
       "  0.0065674881303611592),\n",
       " ('yet the media remains 85 exams babylon novelists stories .',\n",
       "  0.0065674881303611592),\n",
       " ('yet the media hasan emancipation jeff one these stories .',\n",
       "  0.0060453724913548746),\n",
       " ('yet the media maiden one-dimensional allegiances duke these stories .',\n",
       "  0.0060453724913548746),\n",
       " ('yet the media install facilitator yeeyan driest these stories .',\n",
       "  0.0060453724913548746),\n",
       " ('yet the media stranger 200-year shaming toil these stories .',\n",
       "  0.0060453724913548746),\n",
       " ('yet the media dishwasher solidified rebuild equipped these stories .',\n",
       "  0.0060453724913548746),\n",
       " ('yet the media adjustments demons cancel libertarian these stories .',\n",
       "  0.0060453724913548746),\n",
       " ('yet the media possessed prioritized displayed shuttle these stories .',\n",
       "  0.0060453724913548746)]"
      ]
     },
     "execution_count": 15,
     "metadata": {},
     "output_type": "execute_result"
    }
   ],
   "source": [
    "list(raml_samples[sent])"
   ]
  },
  {
   "cell_type": "code",
   "execution_count": null,
   "metadata": {
    "collapsed": true
   },
   "outputs": [],
   "source": []
  }
 ],
 "metadata": {
  "kernelspec": {
   "display_name": "Python 3",
   "language": "python",
   "name": "python3"
  },
  "language_info": {
   "codemirror_mode": {
    "name": "ipython",
    "version": 3
   },
   "file_extension": ".py",
   "mimetype": "text/x-python",
   "name": "python",
   "nbconvert_exporter": "python",
   "pygments_lexer": "ipython3",
   "version": "3.6.0"
  }
 },
 "nbformat": 4,
 "nbformat_minor": 2
}
